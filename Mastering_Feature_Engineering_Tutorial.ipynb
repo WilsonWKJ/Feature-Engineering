{
  "nbformat": 4,
  "nbformat_minor": 0,
  "metadata": {
    "colab": {
      "provenance": [],
      "toc_visible": true,
      "include_colab_link": true
    },
    "kernelspec": {
      "name": "python3",
      "display_name": "Python 3"
    },
    "language_info": {
      "name": "python"
    }
  },
  "cells": [
    {
      "cell_type": "markdown",
      "metadata": {
        "id": "view-in-github",
        "colab_type": "text"
      },
      "source": [
        "<a href=\"https://colab.research.google.com/github/WilsonWKJ/Feature-Engineering/blob/main/Mastering_Feature_Engineering_Tutorial.ipynb\" target=\"_parent\"><img src=\"https://colab.research.google.com/assets/colab-badge.svg\" alt=\"Open In Colab\"/></a>"
      ]
    },
    {
      "cell_type": "markdown",
      "source": [
        "# 職缺預測模型"
      ],
      "metadata": {
        "id": "aCQ1Olj4d8UW"
      }
    },
    {
      "cell_type": "markdown",
      "source": [
        "## 載入套件"
      ],
      "metadata": {
        "id": "s-uYd2D3epwN"
      }
    },
    {
      "cell_type": "code",
      "source": [
        "!wget -O TaipeiSansTCBeta-Regular.ttf https://drive.google.com/uc?id=1eGAsTN1HBpJAkeVM57_C7ccp7hbgSz3_&export=download"
      ],
      "metadata": {
        "colab": {
          "base_uri": "https://localhost:8080/"
        },
        "id": "XQbNygc3GXTX",
        "outputId": "68abb5d7-06b1-4195-9aad-6d198f36500e"
      },
      "execution_count": null,
      "outputs": [
        {
          "output_type": "stream",
          "name": "stdout",
          "text": [
            "--2024-01-15 07:05:28--  https://drive.google.com/uc?id=1eGAsTN1HBpJAkeVM57_C7ccp7hbgSz3_\n",
            "Resolving drive.google.com (drive.google.com)... 172.217.12.14, 2607:f8b0:4025:815::200e\n",
            "Connecting to drive.google.com (drive.google.com)|172.217.12.14|:443... connected.\n",
            "HTTP request sent, awaiting response... 303 See Other\n",
            "Location: https://drive.usercontent.google.com/download?id=1eGAsTN1HBpJAkeVM57_C7ccp7hbgSz3_ [following]\n",
            "--2024-01-15 07:05:28--  https://drive.usercontent.google.com/download?id=1eGAsTN1HBpJAkeVM57_C7ccp7hbgSz3_\n",
            "Resolving drive.usercontent.google.com (drive.usercontent.google.com)... 172.217.15.225, 2607:f8b0:4025:802::2001\n",
            "Connecting to drive.usercontent.google.com (drive.usercontent.google.com)|172.217.15.225|:443... connected.\n",
            "HTTP request sent, awaiting response... 200 OK\n",
            "Length: 20659344 (20M) [application/octet-stream]\n",
            "Saving to: ‘TaipeiSansTCBeta-Regular.ttf’\n",
            "\n",
            "TaipeiSansTCBeta-Re 100%[===================>]  19.70M  61.7MB/s    in 0.3s    \n",
            "\n",
            "2024-01-15 07:05:32 (61.7 MB/s) - ‘TaipeiSansTCBeta-Regular.ttf’ saved [20659344/20659344]\n",
            "\n"
          ]
        }
      ]
    },
    {
      "cell_type": "code",
      "execution_count": null,
      "metadata": {
        "id": "FblvGlPKdzBP"
      },
      "outputs": [],
      "source": [
        "import os\n",
        "import re\n",
        "import pandas as pd\n",
        "import numpy as np\n",
        "\n",
        "\n",
        "import matplotlib as mpl\n",
        "import matplotlib.pyplot as plt\n",
        "import matplotlib.font_manager as fm\n",
        "import seaborn as sns\n",
        "\n",
        "from sklearn import linear_model\n",
        "from sklearn.metrics import r2_score, mean_absolute_error\n",
        "from sklearn.model_selection import cross_val_score, train_test_split\n",
        "from sklearn.preprocessing import OneHotEncoder\n",
        "import statsmodels.api as sm\n",
        "\n",
        "import jieba"
      ]
    },
    {
      "cell_type": "code",
      "source": [
        "fm.fontManager.addfont('TaipeiSansTCBeta-Regular.ttf')\n",
        "mpl.rc('font', family='Taipei Sans TC Beta')"
      ],
      "metadata": {
        "id": "a5eZoSv_KKkC"
      },
      "execution_count": null,
      "outputs": []
    },
    {
      "cell_type": "markdown",
      "source": [
        "## 讀取資料"
      ],
      "metadata": {
        "id": "Vk0WsrOCesZd"
      }
    },
    {
      "cell_type": "code",
      "source": [
        "training_set = pd.read_parquet('https://github.com/tlyu0419/DataScience/raw/master/04_Machine_Learning/data/Tutorial_training_set.parquet')\n",
        "training_set = training_set.drop(['job_href', 'comp_href', 'activate_time'], axis=1)\n",
        "print(training_set.shape)\n",
        "\n",
        "testing_set = pd.read_parquet('https://github.com/tlyu0419/DataScience/raw/master/04_Machine_Learning/data/Tutorial_testing_set.parquet')\n",
        "testing_set = testing_set.drop(['job_href', 'comp_href', 'activate_time'], axis=1)\n",
        "print(testing_set.shape)\n",
        "\n",
        "training_set.head(3)"
      ],
      "metadata": {
        "colab": {
          "base_uri": "https://localhost:8080/",
          "height": 421
        },
        "id": "WoHW92fld7QC",
        "outputId": "8040cf80-260b-48d6-f077-b07a7943f59b"
      },
      "execution_count": null,
      "outputs": [
        {
          "output_type": "stream",
          "name": "stdout",
          "text": [
            "(8067, 14)\n",
            "(2017, 14)\n"
          ]
        },
        {
          "output_type": "execute_result",
          "data": {
            "text/plain": [
              "       index          job_name  \\\n",
              "3808    3808         Web 前端工程師   \n",
              "1478    1478  電聲產品-機構設計工程師(台北)   \n",
              "10705  10705           SA系統分析師   \n",
              "\n",
              "                                             comp_name  \\\n",
              "3808                                            磐弈有限公司   \n",
              "1478                                        美律實業股份有限公司   \n",
              "10705  賜鴻科技有限公司 Mores Information Technology Co., Ltd.   \n",
              "\n",
              "                                                job_desc  \\\n",
              "3808   【需求條件】 • 1 年以上工作相關經驗 • 熟悉 html / css / javascr...   \n",
              "1478   機構開發設計工作，主要開發產品：免持聽筒、耳機、藍牙耳機、可攜式音響系統、其他電聲產品 1....   \n",
              "10705  職務說明： 1. 負責客戶溝通與需求引導、歸納，並撰寫需求分析文件。 2. 負責專案系統之規...   \n",
              "\n",
              "                                                job_tags profession  \\\n",
              "3808                                                  []         軟體   \n",
              "1478                           [excel, powerpoint, word]       工程研發   \n",
              "10705  [full stack development, system analysis, prog...         軟體   \n",
              "\n",
              "                    detail  work_years   fa_dollar_sign location fa_sitemap  \\\n",
              "3808    front-end-engineer           1  4萬 ~ 7萬 TWD / 月       台中   不需負擔管理責任   \n",
              "1478   mechanical-engineer           3  4萬 ~ 7萬 TWD / 月       新北   不需負擔管理責任   \n",
              "10705  system-architecture           2  6萬 ~ 8萬 TWD / 月       台北   不需負擔管理責任   \n",
              "\n",
              "      fa_user              salary  mean_salary  \n",
              "3808      中高階  [40000.0, 70000.0]      55000.0  \n",
              "1478      中高階  [40000.0, 70000.0]      55000.0  \n",
              "10705     中高階  [60000.0, 80000.0]      70000.0  "
            ],
            "text/html": [
              "\n",
              "  <div id=\"df-88069eb7-7c0a-44bf-9495-1fbf3b428b52\" class=\"colab-df-container\">\n",
              "    <div>\n",
              "<style scoped>\n",
              "    .dataframe tbody tr th:only-of-type {\n",
              "        vertical-align: middle;\n",
              "    }\n",
              "\n",
              "    .dataframe tbody tr th {\n",
              "        vertical-align: top;\n",
              "    }\n",
              "\n",
              "    .dataframe thead th {\n",
              "        text-align: right;\n",
              "    }\n",
              "</style>\n",
              "<table border=\"1\" class=\"dataframe\">\n",
              "  <thead>\n",
              "    <tr style=\"text-align: right;\">\n",
              "      <th></th>\n",
              "      <th>index</th>\n",
              "      <th>job_name</th>\n",
              "      <th>comp_name</th>\n",
              "      <th>job_desc</th>\n",
              "      <th>job_tags</th>\n",
              "      <th>profession</th>\n",
              "      <th>detail</th>\n",
              "      <th>work_years</th>\n",
              "      <th>fa_dollar_sign</th>\n",
              "      <th>location</th>\n",
              "      <th>fa_sitemap</th>\n",
              "      <th>fa_user</th>\n",
              "      <th>salary</th>\n",
              "      <th>mean_salary</th>\n",
              "    </tr>\n",
              "  </thead>\n",
              "  <tbody>\n",
              "    <tr>\n",
              "      <th>3808</th>\n",
              "      <td>3808</td>\n",
              "      <td>Web 前端工程師</td>\n",
              "      <td>磐弈有限公司</td>\n",
              "      <td>【需求條件】 • 1 年以上工作相關經驗 • 熟悉 html / css / javascr...</td>\n",
              "      <td>[]</td>\n",
              "      <td>軟體</td>\n",
              "      <td>front-end-engineer</td>\n",
              "      <td>1</td>\n",
              "      <td>4萬 ~ 7萬 TWD / 月</td>\n",
              "      <td>台中</td>\n",
              "      <td>不需負擔管理責任</td>\n",
              "      <td>中高階</td>\n",
              "      <td>[40000.0, 70000.0]</td>\n",
              "      <td>55000.0</td>\n",
              "    </tr>\n",
              "    <tr>\n",
              "      <th>1478</th>\n",
              "      <td>1478</td>\n",
              "      <td>電聲產品-機構設計工程師(台北)</td>\n",
              "      <td>美律實業股份有限公司</td>\n",
              "      <td>機構開發設計工作，主要開發產品：免持聽筒、耳機、藍牙耳機、可攜式音響系統、其他電聲產品 1....</td>\n",
              "      <td>[excel, powerpoint, word]</td>\n",
              "      <td>工程研發</td>\n",
              "      <td>mechanical-engineer</td>\n",
              "      <td>3</td>\n",
              "      <td>4萬 ~ 7萬 TWD / 月</td>\n",
              "      <td>新北</td>\n",
              "      <td>不需負擔管理責任</td>\n",
              "      <td>中高階</td>\n",
              "      <td>[40000.0, 70000.0]</td>\n",
              "      <td>55000.0</td>\n",
              "    </tr>\n",
              "    <tr>\n",
              "      <th>10705</th>\n",
              "      <td>10705</td>\n",
              "      <td>SA系統分析師</td>\n",
              "      <td>賜鴻科技有限公司 Mores Information Technology Co., Ltd.</td>\n",
              "      <td>職務說明： 1. 負責客戶溝通與需求引導、歸納，並撰寫需求分析文件。 2. 負責專案系統之規...</td>\n",
              "      <td>[full stack development, system analysis, prog...</td>\n",
              "      <td>軟體</td>\n",
              "      <td>system-architecture</td>\n",
              "      <td>2</td>\n",
              "      <td>6萬 ~ 8萬 TWD / 月</td>\n",
              "      <td>台北</td>\n",
              "      <td>不需負擔管理責任</td>\n",
              "      <td>中高階</td>\n",
              "      <td>[60000.0, 80000.0]</td>\n",
              "      <td>70000.0</td>\n",
              "    </tr>\n",
              "  </tbody>\n",
              "</table>\n",
              "</div>\n",
              "    <div class=\"colab-df-buttons\">\n",
              "\n",
              "  <div class=\"colab-df-container\">\n",
              "    <button class=\"colab-df-convert\" onclick=\"convertToInteractive('df-88069eb7-7c0a-44bf-9495-1fbf3b428b52')\"\n",
              "            title=\"Convert this dataframe to an interactive table.\"\n",
              "            style=\"display:none;\">\n",
              "\n",
              "  <svg xmlns=\"http://www.w3.org/2000/svg\" height=\"24px\" viewBox=\"0 -960 960 960\">\n",
              "    <path d=\"M120-120v-720h720v720H120Zm60-500h600v-160H180v160Zm220 220h160v-160H400v160Zm0 220h160v-160H400v160ZM180-400h160v-160H180v160Zm440 0h160v-160H620v160ZM180-180h160v-160H180v160Zm440 0h160v-160H620v160Z\"/>\n",
              "  </svg>\n",
              "    </button>\n",
              "\n",
              "  <style>\n",
              "    .colab-df-container {\n",
              "      display:flex;\n",
              "      gap: 12px;\n",
              "    }\n",
              "\n",
              "    .colab-df-convert {\n",
              "      background-color: #E8F0FE;\n",
              "      border: none;\n",
              "      border-radius: 50%;\n",
              "      cursor: pointer;\n",
              "      display: none;\n",
              "      fill: #1967D2;\n",
              "      height: 32px;\n",
              "      padding: 0 0 0 0;\n",
              "      width: 32px;\n",
              "    }\n",
              "\n",
              "    .colab-df-convert:hover {\n",
              "      background-color: #E2EBFA;\n",
              "      box-shadow: 0px 1px 2px rgba(60, 64, 67, 0.3), 0px 1px 3px 1px rgba(60, 64, 67, 0.15);\n",
              "      fill: #174EA6;\n",
              "    }\n",
              "\n",
              "    .colab-df-buttons div {\n",
              "      margin-bottom: 4px;\n",
              "    }\n",
              "\n",
              "    [theme=dark] .colab-df-convert {\n",
              "      background-color: #3B4455;\n",
              "      fill: #D2E3FC;\n",
              "    }\n",
              "\n",
              "    [theme=dark] .colab-df-convert:hover {\n",
              "      background-color: #434B5C;\n",
              "      box-shadow: 0px 1px 3px 1px rgba(0, 0, 0, 0.15);\n",
              "      filter: drop-shadow(0px 1px 2px rgba(0, 0, 0, 0.3));\n",
              "      fill: #FFFFFF;\n",
              "    }\n",
              "  </style>\n",
              "\n",
              "    <script>\n",
              "      const buttonEl =\n",
              "        document.querySelector('#df-88069eb7-7c0a-44bf-9495-1fbf3b428b52 button.colab-df-convert');\n",
              "      buttonEl.style.display =\n",
              "        google.colab.kernel.accessAllowed ? 'block' : 'none';\n",
              "\n",
              "      async function convertToInteractive(key) {\n",
              "        const element = document.querySelector('#df-88069eb7-7c0a-44bf-9495-1fbf3b428b52');\n",
              "        const dataTable =\n",
              "          await google.colab.kernel.invokeFunction('convertToInteractive',\n",
              "                                                    [key], {});\n",
              "        if (!dataTable) return;\n",
              "\n",
              "        const docLinkHtml = 'Like what you see? Visit the ' +\n",
              "          '<a target=\"_blank\" href=https://colab.research.google.com/notebooks/data_table.ipynb>data table notebook</a>'\n",
              "          + ' to learn more about interactive tables.';\n",
              "        element.innerHTML = '';\n",
              "        dataTable['output_type'] = 'display_data';\n",
              "        await google.colab.output.renderOutput(dataTable, element);\n",
              "        const docLink = document.createElement('div');\n",
              "        docLink.innerHTML = docLinkHtml;\n",
              "        element.appendChild(docLink);\n",
              "      }\n",
              "    </script>\n",
              "  </div>\n",
              "\n",
              "\n",
              "<div id=\"df-2c5da528-d6bc-4504-8e9b-e4254b0c912f\">\n",
              "  <button class=\"colab-df-quickchart\" onclick=\"quickchart('df-2c5da528-d6bc-4504-8e9b-e4254b0c912f')\"\n",
              "            title=\"Suggest charts\"\n",
              "            style=\"display:none;\">\n",
              "\n",
              "<svg xmlns=\"http://www.w3.org/2000/svg\" height=\"24px\"viewBox=\"0 0 24 24\"\n",
              "     width=\"24px\">\n",
              "    <g>\n",
              "        <path d=\"M19 3H5c-1.1 0-2 .9-2 2v14c0 1.1.9 2 2 2h14c1.1 0 2-.9 2-2V5c0-1.1-.9-2-2-2zM9 17H7v-7h2v7zm4 0h-2V7h2v10zm4 0h-2v-4h2v4z\"/>\n",
              "    </g>\n",
              "</svg>\n",
              "  </button>\n",
              "\n",
              "<style>\n",
              "  .colab-df-quickchart {\n",
              "      --bg-color: #E8F0FE;\n",
              "      --fill-color: #1967D2;\n",
              "      --hover-bg-color: #E2EBFA;\n",
              "      --hover-fill-color: #174EA6;\n",
              "      --disabled-fill-color: #AAA;\n",
              "      --disabled-bg-color: #DDD;\n",
              "  }\n",
              "\n",
              "  [theme=dark] .colab-df-quickchart {\n",
              "      --bg-color: #3B4455;\n",
              "      --fill-color: #D2E3FC;\n",
              "      --hover-bg-color: #434B5C;\n",
              "      --hover-fill-color: #FFFFFF;\n",
              "      --disabled-bg-color: #3B4455;\n",
              "      --disabled-fill-color: #666;\n",
              "  }\n",
              "\n",
              "  .colab-df-quickchart {\n",
              "    background-color: var(--bg-color);\n",
              "    border: none;\n",
              "    border-radius: 50%;\n",
              "    cursor: pointer;\n",
              "    display: none;\n",
              "    fill: var(--fill-color);\n",
              "    height: 32px;\n",
              "    padding: 0;\n",
              "    width: 32px;\n",
              "  }\n",
              "\n",
              "  .colab-df-quickchart:hover {\n",
              "    background-color: var(--hover-bg-color);\n",
              "    box-shadow: 0 1px 2px rgba(60, 64, 67, 0.3), 0 1px 3px 1px rgba(60, 64, 67, 0.15);\n",
              "    fill: var(--button-hover-fill-color);\n",
              "  }\n",
              "\n",
              "  .colab-df-quickchart-complete:disabled,\n",
              "  .colab-df-quickchart-complete:disabled:hover {\n",
              "    background-color: var(--disabled-bg-color);\n",
              "    fill: var(--disabled-fill-color);\n",
              "    box-shadow: none;\n",
              "  }\n",
              "\n",
              "  .colab-df-spinner {\n",
              "    border: 2px solid var(--fill-color);\n",
              "    border-color: transparent;\n",
              "    border-bottom-color: var(--fill-color);\n",
              "    animation:\n",
              "      spin 1s steps(1) infinite;\n",
              "  }\n",
              "\n",
              "  @keyframes spin {\n",
              "    0% {\n",
              "      border-color: transparent;\n",
              "      border-bottom-color: var(--fill-color);\n",
              "      border-left-color: var(--fill-color);\n",
              "    }\n",
              "    20% {\n",
              "      border-color: transparent;\n",
              "      border-left-color: var(--fill-color);\n",
              "      border-top-color: var(--fill-color);\n",
              "    }\n",
              "    30% {\n",
              "      border-color: transparent;\n",
              "      border-left-color: var(--fill-color);\n",
              "      border-top-color: var(--fill-color);\n",
              "      border-right-color: var(--fill-color);\n",
              "    }\n",
              "    40% {\n",
              "      border-color: transparent;\n",
              "      border-right-color: var(--fill-color);\n",
              "      border-top-color: var(--fill-color);\n",
              "    }\n",
              "    60% {\n",
              "      border-color: transparent;\n",
              "      border-right-color: var(--fill-color);\n",
              "    }\n",
              "    80% {\n",
              "      border-color: transparent;\n",
              "      border-right-color: var(--fill-color);\n",
              "      border-bottom-color: var(--fill-color);\n",
              "    }\n",
              "    90% {\n",
              "      border-color: transparent;\n",
              "      border-bottom-color: var(--fill-color);\n",
              "    }\n",
              "  }\n",
              "</style>\n",
              "\n",
              "  <script>\n",
              "    async function quickchart(key) {\n",
              "      const quickchartButtonEl =\n",
              "        document.querySelector('#' + key + ' button');\n",
              "      quickchartButtonEl.disabled = true;  // To prevent multiple clicks.\n",
              "      quickchartButtonEl.classList.add('colab-df-spinner');\n",
              "      try {\n",
              "        const charts = await google.colab.kernel.invokeFunction(\n",
              "            'suggestCharts', [key], {});\n",
              "      } catch (error) {\n",
              "        console.error('Error during call to suggestCharts:', error);\n",
              "      }\n",
              "      quickchartButtonEl.classList.remove('colab-df-spinner');\n",
              "      quickchartButtonEl.classList.add('colab-df-quickchart-complete');\n",
              "    }\n",
              "    (() => {\n",
              "      let quickchartButtonEl =\n",
              "        document.querySelector('#df-2c5da528-d6bc-4504-8e9b-e4254b0c912f button');\n",
              "      quickchartButtonEl.style.display =\n",
              "        google.colab.kernel.accessAllowed ? 'block' : 'none';\n",
              "    })();\n",
              "  </script>\n",
              "</div>\n",
              "\n",
              "    </div>\n",
              "  </div>\n"
            ]
          },
          "metadata": {},
          "execution_count": 6
        }
      ]
    },
    {
      "cell_type": "markdown",
      "source": [
        "## 建模型"
      ],
      "metadata": {
        "id": "cxIOubZyewC7"
      }
    },
    {
      "cell_type": "markdown",
      "source": [
        "### EDA*"
      ],
      "metadata": {
        "id": "PXo2UG_1euar"
      }
    },
    {
      "cell_type": "code",
      "source": [
        "plt.figure(figsize=(16, 10))\n",
        "\n",
        "plt.subplot(2, 3, 1)\n",
        "sns.scatterplot(data=training_set, x='mean_salary', y='work_years', alpha=0.03).set(xlim=(15000, 150000), ylim=(0, 10))\n",
        "\n",
        "plt.subplot(2, 3, 2)\n",
        "sns.boxplot(data=training_set, x='mean_salary', y='location').set(xlim=(15000, 125000))\n",
        "\n",
        "plt.subplot(2, 3, 4)\n",
        "sns.boxplot(data=training_set, x='mean_salary', y='fa_sitemap').set_xlim(15000, 250000)\n",
        "\n",
        "plt.subplot(2, 3, 5)\n",
        "sns.boxplot(data=training_set, x='mean_salary', y='fa_user').set_xlim(15000, 175000)\n",
        "\n",
        "plt.subplot(2, 3, (3, 6))\n",
        "sns.boxplot(data=training_set, x='mean_salary', y='profession').set_xlim(15000, 100000)"
      ],
      "metadata": {
        "id": "XzcAWVIeexWw"
      },
      "execution_count": null,
      "outputs": []
    },
    {
      "cell_type": "markdown",
      "source": [
        "### Model Training - version 1"
      ],
      "metadata": {
        "id": "sbmVYSF_9ena"
      }
    },
    {
      "cell_type": "code",
      "source": [
        "formula = 'mean_salary ~ profession + work_years + location + fa_sitemap + fa_user'\n",
        "reg = sm.OLS.from_formula(formula, training_set).fit()\n",
        "reg.summary2().tables[0]"
      ],
      "metadata": {
        "id": "-wkk4Bskelhp"
      },
      "execution_count": null,
      "outputs": []
    },
    {
      "cell_type": "code",
      "source": [
        "# 訓練集效度\n",
        "training_set['pred'] = reg.predict(training_set)\n",
        "print('R^2 on Training Set', r2_score(training_set['mean_salary'], training_set['pred']))\n",
        "print('MAE on Training Set', mean_absolute_error(training_set['mean_salary'], training_set['pred']))\n",
        "\n",
        "# 測試集效度\n",
        "testing_set['pred'] = reg.predict(testing_set)\n",
        "print('R^2 on Testing Set', r2_score(testing_set['mean_salary'], testing_set['pred']))\n",
        "print('MAE on Testing Set', mean_absolute_error(testing_set['mean_salary'], testing_set['pred']))"
      ],
      "metadata": {
        "id": "5ACEVdVW9VOO"
      },
      "execution_count": null,
      "outputs": []
    },
    {
      "cell_type": "code",
      "source": [
        "plt.figure(figsize=(14, 5))\n",
        "\n",
        "plt.subplot(1, 2, 1)\n",
        "sns.regplot(data=training_set, x='mean_salary', y='pred')\n",
        "\n",
        "plt.subplot(1, 2, 2)\n",
        "sns.regplot(data=testing_set, x='mean_salary', y='pred')"
      ],
      "metadata": {
        "id": "PdzSpgK_9Ydx"
      },
      "execution_count": null,
      "outputs": []
    },
    {
      "cell_type": "markdown",
      "source": [
        "#### 錯誤分析1*"
      ],
      "metadata": {
        "id": "JUyBg2ED94rf"
      }
    },
    {
      "cell_type": "code",
      "source": [
        "training_set['res'] = training_set['pred'] - training_set['mean_salary']\n",
        "training_set.sort_values('res')[['comp_name','job_name', 'job_desc', 'fa_user', 'fa_dollar_sign', 'mean_salary', 'pred', 'res']].round().head(20)"
      ],
      "metadata": {
        "id": "gFHK6_aj-CqT"
      },
      "execution_count": null,
      "outputs": []
    },
    {
      "cell_type": "code",
      "source": [
        "training_set.sort_values('res')[['comp_name','job_name', 'job_desc', 'fa_user', 'fa_sitemap', 'fa_dollar_sign', 'mean_salary', 'pred', 'res']].round().tail(15)"
      ],
      "metadata": {
        "id": "ULnSsL9n-DqC"
      },
      "execution_count": null,
      "outputs": []
    },
    {
      "cell_type": "markdown",
      "source": [
        "### Model Training - version 2"
      ],
      "metadata": {
        "id": "V9DBhdYm-Hzq"
      }
    },
    {
      "cell_type": "markdown",
      "source": [
        "#### 移除離群值"
      ],
      "metadata": {
        "id": "R37PhekC-4Sv"
      }
    },
    {
      "cell_type": "code",
      "source": [
        "training_set = training_set.loc[training_set['job_desc'].apply(lambda x: '職缺測試，請勿應徵。' not in x)]\n",
        "testing_set = testing_set.loc[testing_set['job_desc'].apply(lambda x: '職缺測試，請勿應徵。' not in x)]"
      ],
      "metadata": {
        "id": "couaMajMLfVV"
      },
      "execution_count": null,
      "outputs": []
    },
    {
      "cell_type": "code",
      "source": [
        "# 丟掉最小薪資比最低工資還低的職缺\n",
        "training_set = training_set.loc[training_set['salary'].apply(lambda x: min(x)>26400)]\n",
        "testing_set = testing_set.loc[testing_set['salary'].apply(lambda x: min(x)>26400)]"
      ],
      "metadata": {
        "id": "v0vo-b7tLxvC"
      },
      "execution_count": null,
      "outputs": []
    },
    {
      "cell_type": "code",
      "source": [
        "q1 = training_set['mean_salary'].quantile(0.25)\n",
        "q3 = training_set['mean_salary'].quantile(0.75)\n",
        "iqr = q3-q1\n",
        "print(f'q1: {q1}, q3: {q3}, iqr: {iqr}')"
      ],
      "metadata": {
        "id": "F8yW-xamL3l8"
      },
      "execution_count": null,
      "outputs": []
    },
    {
      "cell_type": "code",
      "source": [
        "print(training_set.shape)\n",
        "training_set = training_set.loc[training_set['mean_salary'].apply(lambda x: q1-1.5*iqr <= x <= q3+1.5*iqr)]\n",
        "print(training_set.shape)\n",
        "\n",
        "print(testing_set.shape)\n",
        "testing_set = testing_set.loc[testing_set['mean_salary'].apply(lambda x: q1-1.5*iqr <= x <= q3+1.5*iqr)]\n",
        "print(testing_set.shape)"
      ],
      "metadata": {
        "id": "sLwyKKQVL1Ay"
      },
      "execution_count": null,
      "outputs": []
    },
    {
      "cell_type": "code",
      "source": [
        "formula = 'mean_salary ~ profession + work_years + location + fa_sitemap + fa_user'\n",
        "reg = sm.OLS.from_formula(formula, training_set).fit()"
      ],
      "metadata": {
        "id": "BEEdM7O6L8-Q"
      },
      "execution_count": null,
      "outputs": []
    },
    {
      "cell_type": "code",
      "source": [
        "# 訓練集效度\n",
        "training_set['pred'] = reg.predict(training_set)\n",
        "print(r2_score(training_set['mean_salary'], training_set['pred']))\n",
        "print(mean_absolute_error(training_set['mean_salary'], training_set['pred']))\n",
        "\n",
        "# 測試集效度\n",
        "testing_set['pred'] = reg.predict(testing_set)\n",
        "print(r2_score(testing_set['mean_salary'], testing_set['pred']))\n",
        "print(mean_absolute_error(testing_set['mean_salary'], testing_set['pred']))"
      ],
      "metadata": {
        "id": "43Y-MuZrL--L"
      },
      "execution_count": null,
      "outputs": []
    },
    {
      "cell_type": "code",
      "source": [
        "plt.figure(figsize=(14, 5))\n",
        "\n",
        "plt.subplot(1, 2, 1)\n",
        "sns.regplot(data=training_set, x='mean_salary', y='pred')\n",
        "\n",
        "plt.subplot(1, 2, 2)\n",
        "sns.regplot(data=testing_set, x='mean_salary', y='pred')"
      ],
      "metadata": {
        "id": "SMqn4gx5MDqd"
      },
      "execution_count": null,
      "outputs": []
    },
    {
      "cell_type": "markdown",
      "source": [
        "#### 特徵交互"
      ],
      "metadata": {
        "id": "Ss4E9TQh-8h4"
      }
    },
    {
      "cell_type": "code",
      "source": [
        "formula = 'mean_salary ~ profession + work_years + location + fa_sitemap + fa_user + fa_user:profession'\n",
        "reg = sm.OLS.from_formula(formula, training_set).fit()"
      ],
      "metadata": {
        "id": "JrtAAkbjMHpR"
      },
      "execution_count": null,
      "outputs": []
    },
    {
      "cell_type": "code",
      "source": [
        "# 訓練集效度\n",
        "training_set['pred'] = reg.predict(training_set)\n",
        "print(r2_score(training_set['mean_salary'], training_set['pred']))\n",
        "print(mean_absolute_error(training_set['mean_salary'], training_set['pred']))\n",
        "\n",
        "# 測試集效度\n",
        "testing_set['pred'] = reg.predict(testing_set)\n",
        "print(r2_score(testing_set['mean_salary'], testing_set['pred']))\n",
        "print(mean_absolute_error(testing_set['mean_salary'], testing_set['pred']))"
      ],
      "metadata": {
        "id": "F4aZYLdzMJ4i"
      },
      "execution_count": null,
      "outputs": []
    },
    {
      "cell_type": "code",
      "source": [
        "reg.summary2()"
      ],
      "metadata": {
        "id": "LUtLdSzEMKkC"
      },
      "execution_count": null,
      "outputs": []
    },
    {
      "cell_type": "markdown",
      "source": [
        "#### 錯誤分析v2*"
      ],
      "metadata": {
        "id": "-ly7dSpW_MSC"
      }
    },
    {
      "cell_type": "code",
      "source": [
        "formula = 'mean_salary ~ profession + work_years + location + fa_sitemap + fa_user'\n",
        "reg = sm.OLS.from_formula(formula, training_set).fit()\n",
        "training_set['pred'] = reg.predict(training_set)\n",
        "testing_set['pred'] = reg.predict(testing_set)"
      ],
      "metadata": {
        "id": "yGcOfIcCMRcq"
      },
      "execution_count": null,
      "outputs": []
    },
    {
      "cell_type": "code",
      "source": [
        "training_set['res'] = training_set['pred'] - training_set['mean_salary']\n",
        "training_set.sort_values('res')[['job_name', 'job_desc', 'fa_dollar_sign', 'mean_salary', 'pred', 'res']].head(50)"
      ],
      "metadata": {
        "id": "lN1t6XgDMXsU"
      },
      "execution_count": null,
      "outputs": []
    },
    {
      "cell_type": "code",
      "source": [
        "training_set.sort_values('res')[['job_name', 'job_desc', 'fa_dollar_sign', 'mean_salary', 'pred', 'res']].tail(50)"
      ],
      "metadata": {
        "id": "iQMbuzbpMZkA"
      },
      "execution_count": null,
      "outputs": []
    },
    {
      "cell_type": "markdown",
      "source": [
        "### Model Training - version 3"
      ],
      "metadata": {
        "id": "g28A7WFT_6Fw"
      }
    },
    {
      "cell_type": "markdown",
      "source": [
        "#### 移除業務性質的工作"
      ],
      "metadata": {
        "id": "AjGzMeMs_-G-"
      }
    },
    {
      "cell_type": "code",
      "source": [
        "training_set['ratio'] = training_set['salary'].apply(lambda x: max(x)/min(x))\n",
        "training_set.sort_values('ratio', ascending=False)[['profession', 'job_name', 'job_desc', 'fa_dollar_sign', 'mean_salary', 'ratio']].head(20)"
      ],
      "metadata": {
        "id": "FdaAUKDTAACX"
      },
      "execution_count": null,
      "outputs": []
    },
    {
      "cell_type": "code",
      "source": [
        "sum(training_set['ratio']>=3)"
      ],
      "metadata": {
        "id": "XK_eiMZ7AFJj"
      },
      "execution_count": null,
      "outputs": []
    },
    {
      "cell_type": "code",
      "source": [
        "print(training_set.shape)\n",
        "training_set = training_set.loc[training_set['ratio']<3]\n",
        "print(training_set.shape)\n",
        "\n",
        "print(testing_set.shape)\n",
        "testing_set['ratio'] = testing_set['salary'].apply(lambda x: max(x)/min(x))\n",
        "testing_set = testing_set.loc[testing_set['ratio']<3]\n",
        "print(testing_set.shape)"
      ],
      "metadata": {
        "id": "9dUClysTAHld"
      },
      "execution_count": null,
      "outputs": []
    },
    {
      "cell_type": "code",
      "source": [
        "formula = 'mean_salary ~ profession + work_years + location + fa_sitemap + fa_user'\n",
        "reg = sm.OLS.from_formula(formula, training_set).fit()\n",
        "\n",
        "# 訓練集效度\n",
        "training_set['pred'] = reg.predict(training_set)\n",
        "print(r2_score(training_set['mean_salary'], training_set['pred']))\n",
        "print(mean_absolute_error(training_set['mean_salary'], training_set['pred']))\n",
        "\n",
        "# 測試集效度\n",
        "testing_set['pred'] = reg.predict(testing_set)\n",
        "print(r2_score(testing_set['mean_salary'], testing_set['pred']))\n",
        "print(mean_absolute_error(testing_set['mean_salary'], testing_set['pred']))"
      ],
      "metadata": {
        "id": "3FSHsrNiAUI6"
      },
      "execution_count": null,
      "outputs": []
    },
    {
      "cell_type": "code",
      "source": [
        "training_set = training_set.drop('ratio', axis=1)\n",
        "testing_set = testing_set.drop('ratio', axis=1)"
      ],
      "metadata": {
        "id": "EjF3Zn6mAc5w"
      },
      "execution_count": null,
      "outputs": []
    },
    {
      "cell_type": "markdown",
      "source": [
        "#### 用 Domain 從職缺描述中抽 Tag"
      ],
      "metadata": {
        "id": "jOJidgfKAefT"
      }
    },
    {
      "cell_type": "code",
      "source": [
        "# 直接用 Domain 抽關鍵詞\n",
        "training_set['python'] = training_set['job_desc'].apply(lambda x: 'python' in x)\n",
        "training_set['javascript'] = training_set['job_desc'].apply(lambda x: 'javascript' in x)\n",
        "training_set['linux'] = training_set['job_desc'].apply(lambda x: 'linux' in x)\n",
        "training_set['sql'] = training_set['job_desc'].apply(lambda x: 'sql' in x)\n",
        "training_set['word'] = training_set['job_desc'].apply(lambda x: 'word' in x)\n",
        "training_set['excel'] = training_set['job_desc'].apply(lambda x: 'excel' in x)\n",
        "training_set['powerpoint'] = training_set['job_desc'].apply(lambda x: 'powerpoint' in x)\n",
        "\n",
        "formula = 'mean_salary ~ profession + work_years + location + fa_sitemap + fa_user + python + javascript + linux + sql + word + excel + powerpoint'\n",
        "reg = sm.OLS.from_formula(formula, training_set).fit()\n",
        "\n",
        "# 訓練集效度\n",
        "training_set['pred'] = reg.predict(training_set)\n",
        "print(r2_score(training_set['mean_salary'], training_set['pred']))\n",
        "print(mean_absolute_error(training_set['mean_salary'], training_set['pred']))"
      ],
      "metadata": {
        "id": "foesPFKqMgC-"
      },
      "execution_count": null,
      "outputs": []
    },
    {
      "cell_type": "code",
      "source": [
        "testing_set['python'] = testing_set['job_desc'].apply(lambda x: 'python' in x)\n",
        "testing_set['javascript'] = testing_set['job_desc'].apply(lambda x: 'javascript' in x)\n",
        "testing_set['linux'] = testing_set['job_desc'].apply(lambda x: 'linux' in x)\n",
        "testing_set['sql'] = testing_set['job_desc'].apply(lambda x: 'sql' in x)\n",
        "testing_set['word'] = testing_set['job_desc'].apply(lambda x: 'word' in x)\n",
        "testing_set['excel'] = testing_set['job_desc'].apply(lambda x: 'excel' in x)\n",
        "testing_set['powerpoint'] = testing_set['job_desc'].apply(lambda x: 'powerpoint' in x)\n",
        "\n",
        "# 測試集效度\n",
        "testing_set['pred'] = reg.predict(testing_set)\n",
        "print(r2_score(testing_set['mean_salary'], testing_set['pred']))\n",
        "print(mean_absolute_error(testing_set['mean_salary'], testing_set['pred']))"
      ],
      "metadata": {
        "id": "J9QmHXoLAplk"
      },
      "execution_count": null,
      "outputs": []
    },
    {
      "cell_type": "code",
      "source": [
        "training_set = training_set.drop(['python', 'javascript', 'linux', 'sql', 'word', 'excel', 'powerpoint'], axis=1)\n",
        "testing_set = testing_set.drop(['python', 'javascript', 'linux', 'sql', 'word', 'excel', 'powerpoint'], axis=1)"
      ],
      "metadata": {
        "id": "PD1GBplfAsjS"
      },
      "execution_count": null,
      "outputs": []
    },
    {
      "cell_type": "markdown",
      "source": [
        "#### 用職缺 Tag 當標籤"
      ],
      "metadata": {
        "id": "R_2x-dKCAwb1"
      }
    },
    {
      "cell_type": "code",
      "source": [
        "tags_cnt = training_set['job_tags'].explode().value_counts().reset_index()\n",
        "tags_cnt = tags_cnt.loc[tags_cnt['job_tags']!='nan']\n",
        "print(tags_cnt['index'][:60].values)\n",
        "tags_cnt.head(20)"
      ],
      "metadata": {
        "id": "8RCc1Jo6Mi5X"
      },
      "execution_count": null,
      "outputs": []
    },
    {
      "cell_type": "code",
      "source": [
        "kw_list = ['excel', 'word', 'powerpoint', 'outlook',\n",
        "           'photoshop', 'illustrator', 'figma', 'premiere',\n",
        "           'linux', 'android', 'ios', 'flutter',\n",
        "           'python', 'javascript', 'java', 'c#', 'php', 'sql', 'c++', 'git', 'golang', 'vue.js', 'c', 'node.js',\n",
        "           'google analytics', 'react', 'css', 'asp.net', 'html',\n",
        "           'gcp', 'aws',\n",
        "           'laravel', 'autocad', 'jquery', 'devops', 'kotlin', 'sketch']\n",
        "for kw in kw_list:\n",
        "    jieba.add_word(kw)"
      ],
      "metadata": {
        "id": "KhYO8hAaMkp8"
      },
      "execution_count": null,
      "outputs": []
    },
    {
      "cell_type": "code",
      "source": [
        "training_set['job_desc_seg'] = training_set['job_desc'].apply(lambda x: jieba.lcut(x))\n",
        "training_set['job_desc_seg'] = training_set.apply(lambda x: list(x['job_desc_seg']) + list(x['job_tags']), axis=1)\n",
        "training_set['job_desc_seg'] = training_set['job_desc_seg'].apply(lambda x: list(set(x)))\n",
        "training_set['job_desc_seg'] = training_set['job_desc_seg'].apply(lambda x: [i for i in x if i in kw_list])\n",
        "training_set.head(3)"
      ],
      "metadata": {
        "id": "vmJaaA6XMnC0"
      },
      "execution_count": null,
      "outputs": []
    },
    {
      "cell_type": "code",
      "source": [
        "testing_set['job_desc_seg'] = testing_set['job_desc'].apply(lambda x: jieba.lcut(x))\n",
        "testing_set['job_desc_seg'] = testing_set.apply(lambda x: list(x['job_desc_seg']) + list(x['job_tags']), axis=1)\n",
        "testing_set['job_desc_seg'] = testing_set['job_desc_seg'].apply(lambda x: list(set(x)))\n",
        "testing_set['job_desc_seg'] = testing_set['job_desc_seg'].apply(lambda x: [i for i in x if i in kw_list])\n",
        "testing_set.head(3)"
      ],
      "metadata": {
        "id": "ejbbQQWzND8N"
      },
      "execution_count": null,
      "outputs": []
    },
    {
      "cell_type": "code",
      "source": [
        "# Create one-hot column\n",
        "for tag in kw_list:\n",
        "    training_set[tag] = training_set['job_desc_seg'].apply(lambda x: tag in x)\n",
        "    testing_set[tag] = testing_set['job_desc_seg'].apply(lambda x: tag in x)\n",
        "\n",
        "rename_dict = {'c#':'c_sharp', 'c++':'c_plusplus', 'vue.js':'vue_js',\n",
        "               'node.js':'node_js', 'google analytics':'google_analytics',\n",
        "               'asp.net':'asp_net'}\n",
        "\n",
        "training_set = training_set.rename(rename_dict, axis=1)\n",
        "testing_set = testing_set.rename(rename_dict, axis=1)\n",
        "training_set.columns"
      ],
      "metadata": {
        "id": "LTO6OBiVBfSM"
      },
      "execution_count": null,
      "outputs": []
    },
    {
      "cell_type": "code",
      "source": [
        "training_set.head(1)"
      ],
      "metadata": {
        "colab": {
          "base_uri": "https://localhost:8080/",
          "height": 251
        },
        "id": "s7o7tCHABiXz",
        "outputId": "4823ff88-e521-42ff-a3a4-5996dadb2e9e"
      },
      "execution_count": null,
      "outputs": [
        {
          "output_type": "execute_result",
          "data": {
            "text/plain": [
              "      index   job_name comp_name  \\\n",
              "3808   3808  Web 前端工程師    磐弈有限公司   \n",
              "\n",
              "                                               job_desc job_tags profession  \\\n",
              "3808  【需求條件】 • 1 年以上工作相關經驗 • 熟悉 html / css / javascr...       []         軟體   \n",
              "\n",
              "                  detail  work_years   fa_dollar_sign location  ... asp_net  \\\n",
              "3808  front-end-engineer           1  4萬 ~ 7萬 TWD / 月       台中  ...   False   \n",
              "\n",
              "      html    gcp    aws  laravel  autocad jquery  devops  kotlin  sketch  \n",
              "3808  True  False  False    False    False  False   False   False   False  \n",
              "\n",
              "[1 rows x 54 columns]"
            ],
            "text/html": [
              "\n",
              "  <div id=\"df-36af2cdf-ac20-4e22-bfae-0353f0106c65\" class=\"colab-df-container\">\n",
              "    <div>\n",
              "<style scoped>\n",
              "    .dataframe tbody tr th:only-of-type {\n",
              "        vertical-align: middle;\n",
              "    }\n",
              "\n",
              "    .dataframe tbody tr th {\n",
              "        vertical-align: top;\n",
              "    }\n",
              "\n",
              "    .dataframe thead th {\n",
              "        text-align: right;\n",
              "    }\n",
              "</style>\n",
              "<table border=\"1\" class=\"dataframe\">\n",
              "  <thead>\n",
              "    <tr style=\"text-align: right;\">\n",
              "      <th></th>\n",
              "      <th>index</th>\n",
              "      <th>job_name</th>\n",
              "      <th>comp_name</th>\n",
              "      <th>job_desc</th>\n",
              "      <th>job_tags</th>\n",
              "      <th>profession</th>\n",
              "      <th>detail</th>\n",
              "      <th>work_years</th>\n",
              "      <th>fa_dollar_sign</th>\n",
              "      <th>location</th>\n",
              "      <th>...</th>\n",
              "      <th>asp_net</th>\n",
              "      <th>html</th>\n",
              "      <th>gcp</th>\n",
              "      <th>aws</th>\n",
              "      <th>laravel</th>\n",
              "      <th>autocad</th>\n",
              "      <th>jquery</th>\n",
              "      <th>devops</th>\n",
              "      <th>kotlin</th>\n",
              "      <th>sketch</th>\n",
              "    </tr>\n",
              "  </thead>\n",
              "  <tbody>\n",
              "    <tr>\n",
              "      <th>3808</th>\n",
              "      <td>3808</td>\n",
              "      <td>Web 前端工程師</td>\n",
              "      <td>磐弈有限公司</td>\n",
              "      <td>【需求條件】 • 1 年以上工作相關經驗 • 熟悉 html / css / javascr...</td>\n",
              "      <td>[]</td>\n",
              "      <td>軟體</td>\n",
              "      <td>front-end-engineer</td>\n",
              "      <td>1</td>\n",
              "      <td>4萬 ~ 7萬 TWD / 月</td>\n",
              "      <td>台中</td>\n",
              "      <td>...</td>\n",
              "      <td>False</td>\n",
              "      <td>True</td>\n",
              "      <td>False</td>\n",
              "      <td>False</td>\n",
              "      <td>False</td>\n",
              "      <td>False</td>\n",
              "      <td>False</td>\n",
              "      <td>False</td>\n",
              "      <td>False</td>\n",
              "      <td>False</td>\n",
              "    </tr>\n",
              "  </tbody>\n",
              "</table>\n",
              "<p>1 rows × 54 columns</p>\n",
              "</div>\n",
              "    <div class=\"colab-df-buttons\">\n",
              "\n",
              "  <div class=\"colab-df-container\">\n",
              "    <button class=\"colab-df-convert\" onclick=\"convertToInteractive('df-36af2cdf-ac20-4e22-bfae-0353f0106c65')\"\n",
              "            title=\"Convert this dataframe to an interactive table.\"\n",
              "            style=\"display:none;\">\n",
              "\n",
              "  <svg xmlns=\"http://www.w3.org/2000/svg\" height=\"24px\" viewBox=\"0 -960 960 960\">\n",
              "    <path d=\"M120-120v-720h720v720H120Zm60-500h600v-160H180v160Zm220 220h160v-160H400v160Zm0 220h160v-160H400v160ZM180-400h160v-160H180v160Zm440 0h160v-160H620v160ZM180-180h160v-160H180v160Zm440 0h160v-160H620v160Z\"/>\n",
              "  </svg>\n",
              "    </button>\n",
              "\n",
              "  <style>\n",
              "    .colab-df-container {\n",
              "      display:flex;\n",
              "      gap: 12px;\n",
              "    }\n",
              "\n",
              "    .colab-df-convert {\n",
              "      background-color: #E8F0FE;\n",
              "      border: none;\n",
              "      border-radius: 50%;\n",
              "      cursor: pointer;\n",
              "      display: none;\n",
              "      fill: #1967D2;\n",
              "      height: 32px;\n",
              "      padding: 0 0 0 0;\n",
              "      width: 32px;\n",
              "    }\n",
              "\n",
              "    .colab-df-convert:hover {\n",
              "      background-color: #E2EBFA;\n",
              "      box-shadow: 0px 1px 2px rgba(60, 64, 67, 0.3), 0px 1px 3px 1px rgba(60, 64, 67, 0.15);\n",
              "      fill: #174EA6;\n",
              "    }\n",
              "\n",
              "    .colab-df-buttons div {\n",
              "      margin-bottom: 4px;\n",
              "    }\n",
              "\n",
              "    [theme=dark] .colab-df-convert {\n",
              "      background-color: #3B4455;\n",
              "      fill: #D2E3FC;\n",
              "    }\n",
              "\n",
              "    [theme=dark] .colab-df-convert:hover {\n",
              "      background-color: #434B5C;\n",
              "      box-shadow: 0px 1px 3px 1px rgba(0, 0, 0, 0.15);\n",
              "      filter: drop-shadow(0px 1px 2px rgba(0, 0, 0, 0.3));\n",
              "      fill: #FFFFFF;\n",
              "    }\n",
              "  </style>\n",
              "\n",
              "    <script>\n",
              "      const buttonEl =\n",
              "        document.querySelector('#df-36af2cdf-ac20-4e22-bfae-0353f0106c65 button.colab-df-convert');\n",
              "      buttonEl.style.display =\n",
              "        google.colab.kernel.accessAllowed ? 'block' : 'none';\n",
              "\n",
              "      async function convertToInteractive(key) {\n",
              "        const element = document.querySelector('#df-36af2cdf-ac20-4e22-bfae-0353f0106c65');\n",
              "        const dataTable =\n",
              "          await google.colab.kernel.invokeFunction('convertToInteractive',\n",
              "                                                    [key], {});\n",
              "        if (!dataTable) return;\n",
              "\n",
              "        const docLinkHtml = 'Like what you see? Visit the ' +\n",
              "          '<a target=\"_blank\" href=https://colab.research.google.com/notebooks/data_table.ipynb>data table notebook</a>'\n",
              "          + ' to learn more about interactive tables.';\n",
              "        element.innerHTML = '';\n",
              "        dataTable['output_type'] = 'display_data';\n",
              "        await google.colab.output.renderOutput(dataTable, element);\n",
              "        const docLink = document.createElement('div');\n",
              "        docLink.innerHTML = docLinkHtml;\n",
              "        element.appendChild(docLink);\n",
              "      }\n",
              "    </script>\n",
              "  </div>\n",
              "\n",
              "\n",
              "    </div>\n",
              "  </div>\n"
            ]
          },
          "metadata": {},
          "execution_count": 52
        }
      ]
    },
    {
      "cell_type": "code",
      "source": [
        "' + '.join(training_set.columns[17:])"
      ],
      "metadata": {
        "id": "mWCYUzu2BkVd"
      },
      "execution_count": null,
      "outputs": []
    },
    {
      "cell_type": "code",
      "source": [
        "formula = 'mean_salary ~ profession + work_years + location + fa_sitemap + fa_user' + ' + ' + ' + '.join(training_set.columns[17:])\n",
        "reg = sm.OLS.from_formula(formula, training_set).fit()"
      ],
      "metadata": {
        "id": "B0OZwPIgMqia"
      },
      "execution_count": null,
      "outputs": []
    },
    {
      "cell_type": "code",
      "source": [
        "# 訓練集效度\n",
        "training_set['pred'] = reg.predict(training_set)\n",
        "print(r2_score(training_set['mean_salary'], training_set['pred']))\n",
        "print(mean_absolute_error(training_set['mean_salary'], training_set['pred']))\n",
        "\n",
        "# 測試集效度\n",
        "testing_set['pred'] = reg.predict(testing_set)\n",
        "print(r2_score(testing_set['mean_salary'], testing_set['pred']))\n",
        "print(mean_absolute_error(testing_set['mean_salary'], testing_set['pred']))"
      ],
      "metadata": {
        "id": "MSkbF_rGMsfU"
      },
      "execution_count": null,
      "outputs": []
    },
    {
      "cell_type": "markdown",
      "source": [
        "#### 錯誤分析v3\n",
        "- 其實可以再繼續做錯誤分析，但這邊先跳過"
      ],
      "metadata": {
        "id": "37GzqnQfB9A2"
      }
    },
    {
      "cell_type": "markdown",
      "source": [
        "## 模型解析"
      ],
      "metadata": {
        "id": "4L868kzhfI_O"
      }
    },
    {
      "cell_type": "code",
      "source": [
        "reg.summary2()"
      ],
      "metadata": {
        "id": "tHhaaN1RfITV"
      },
      "execution_count": null,
      "outputs": []
    },
    {
      "cell_type": "markdown",
      "source": [
        "#### Create Dummies"
      ],
      "metadata": {
        "id": "d-xqhVe4CW2L"
      }
    },
    {
      "cell_type": "code",
      "source": [
        "enc = OneHotEncoder(handle_unknown='ignore')\n",
        "\n",
        "features = ['profession', 'location', 'fa_sitemap', 'fa_user']\n",
        "X = training_set[features]\n",
        "enc.fit(X)"
      ],
      "metadata": {
        "id": "ayvy08d4NRWk"
      },
      "execution_count": null,
      "outputs": []
    },
    {
      "cell_type": "code",
      "source": [
        "enc.get_feature_names_out()"
      ],
      "metadata": {
        "id": "XQRzFdPcNZAu"
      },
      "execution_count": null,
      "outputs": []
    },
    {
      "cell_type": "code",
      "source": [
        "training_dummies = pd.DataFrame(data=enc.transform(training_set[features]).toarray(),\n",
        "                                columns=enc.get_feature_names_out())\n",
        "training_dummies = training_dummies.drop(['profession_其他', 'location_其他縣市', 'fa_sitemap_不需負擔管理責任', 'fa_user_助理'], axis=1)\n",
        "\n",
        "\n",
        "testing_dummies = pd.DataFrame(data=enc.transform(testing_set[features]).toarray(),\n",
        "                                columns=enc.get_feature_names_out())\n",
        "testing_dummies = testing_dummies.drop(['profession_其他', 'location_其他縣市', 'fa_sitemap_不需負擔管理責任', 'fa_user_助理'], axis=1)\n",
        "\n",
        "training_dummies"
      ],
      "metadata": {
        "id": "sUs1XHFTNa8I"
      },
      "execution_count": null,
      "outputs": []
    },
    {
      "cell_type": "code",
      "source": [
        "training_set = pd.concat([training_set.reset_index(drop=True), training_dummies], axis=1)\n",
        "testing_set = pd.concat([testing_set.reset_index(drop=True), testing_dummies], axis=1)\n",
        "training_set.columns"
      ],
      "metadata": {
        "id": "0aSi-AZmNfr3"
      },
      "execution_count": null,
      "outputs": []
    },
    {
      "cell_type": "markdown",
      "source": [
        "### 確認模型效度一致"
      ],
      "metadata": {
        "id": "jA_yPqf6CmzK"
      }
    },
    {
      "cell_type": "code",
      "source": [
        "features = ['work_years', 'excel', 'word', 'powerpoint', 'outlook', 'photoshop', 'illustrator', 'figma',\n",
        "            'premiere', 'linux', 'android', 'ios', 'flutter', 'python', 'javascript', 'java', 'c_sharp',\n",
        "            'php', 'sql', 'c_plusplus', 'git', 'golang', 'vue_js', 'c', 'node_js', 'google_analytics',\n",
        "            'react', 'css', 'asp_net', 'html', 'gcp', 'aws', 'laravel', 'autocad', 'jquery', 'devops',\n",
        "            'kotlin', 'sketch', 'profession_人資', 'profession_客服', 'profession_工程研發', 'profession_建設',\n",
        "            'profession_政府機關', 'profession_教育', 'profession_文字編輯', 'profession_法律', 'profession_物流貿易',\n",
        "            'profession_生物醫療', 'profession_經營管理', 'profession_行銷', 'profession_製造', 'profession_設計',\n",
        "            'profession_軟體', 'profession_遊戲製作', 'profession_金融', 'profession_餐飲',  'profession_業務', 'location_台中',\n",
        "            'location_台北', 'location_台南', 'location_新北', 'location_新竹', 'location_桃園', 'location_高雄',\n",
        "            'fa_sitemap_管理10_15人', 'fa_sitemap_管理15人以上', 'fa_sitemap_管理1_5人', 'fa_sitemap_管理5_10人',\n",
        "            'fa_sitemap_管理人數未定', 'fa_user_中高階', 'fa_user_初階', 'fa_user_經營層', 'fa_user_經理']\n",
        "\n",
        "formula = 'mean_salary ~ ' + ' + '.join(features)\n",
        "# formula\n",
        "reg = sm.OLS.from_formula(formula, training_set).fit()"
      ],
      "metadata": {
        "id": "IRabp7aPNnN4"
      },
      "execution_count": null,
      "outputs": []
    },
    {
      "cell_type": "code",
      "source": [
        "reg.summary2()"
      ],
      "metadata": {
        "id": "HSxiIjA9Nqt1"
      },
      "execution_count": null,
      "outputs": []
    },
    {
      "cell_type": "code",
      "source": [
        "reg_table = reg.summary2().tables[1]\n",
        "reg_table"
      ],
      "metadata": {
        "id": "Ya3ufBIMCwyY"
      },
      "execution_count": null,
      "outputs": []
    },
    {
      "cell_type": "code",
      "source": [
        "# 訓練集效度\n",
        "training_set['pred'] = reg.predict(training_set)\n",
        "print(r2_score(training_set['mean_salary'], training_set['pred']))\n",
        "print(mean_absolute_error(training_set['mean_salary'], training_set['pred']))\n",
        "\n",
        "# 測試集效度\n",
        "testing_set['pred'] = reg.predict(testing_set)\n",
        "print(r2_score(testing_set['mean_salary'], testing_set['pred']))\n",
        "print(mean_absolute_error(testing_set['mean_salary'], testing_set['pred']))"
      ],
      "metadata": {
        "id": "hrZCeB2MNuyb"
      },
      "execution_count": null,
      "outputs": []
    },
    {
      "cell_type": "markdown",
      "source": [
        "### Stepwise"
      ],
      "metadata": {
        "id": "J4_jzHrDC6FK"
      }
    },
    {
      "cell_type": "code",
      "source": [
        "features = ['work_years', 'excel', 'word', 'powerpoint', 'outlook', 'photoshop', 'illustrator', 'figma',\n",
        "            'premiere', 'linux', 'android', 'ios', 'flutter', 'python', 'javascript', 'java', 'c_sharp',\n",
        "            'php', 'sql', 'c_plusplus', 'git', 'golang', 'vue_js', 'c', 'node_js', 'google_analytics',\n",
        "            'react', 'css', 'asp_net', 'html', 'gcp', 'aws', 'laravel', 'autocad', 'jquery', 'devops',\n",
        "            'kotlin', 'sketch', 'profession_人資', 'profession_客服', 'profession_工程研發', 'profession_建設',\n",
        "            'profession_政府機關', 'profession_教育', 'profession_文字編輯', 'profession_法律', 'profession_物流貿易',\n",
        "            'profession_生物醫療', 'profession_經營管理', 'profession_行銷', 'profession_製造', 'profession_設計',\n",
        "            'profession_軟體', 'profession_遊戲製作', 'profession_金融', 'profession_餐飲', 'profession_業務',\n",
        "            'location_台中', 'location_台北', 'location_台南', 'location_新北', 'location_新竹', 'location_桃園', 'location_高雄',\n",
        "            'fa_sitemap_管理10_15人', 'fa_sitemap_管理15人以上', 'fa_sitemap_管理1_5人', 'fa_sitemap_管理5_10人',\n",
        "            'fa_sitemap_管理人數未定', 'fa_user_中高階', 'fa_user_初階', 'fa_user_經營層', 'fa_user_經理']"
      ],
      "metadata": {
        "id": "723PQZ5NNwi5"
      },
      "execution_count": null,
      "outputs": []
    },
    {
      "cell_type": "code",
      "source": [
        "while True:\n",
        "    formula = 'mean_salary ~ ' + ' + '.join(features)\n",
        "    reg = sm.OLS.from_formula(formula, training_set).fit()\n",
        "    reg_table = reg.summary2().tables[1]\n",
        "\n",
        "    if reg_table['P>|t|'].max() > 0.05:\n",
        "        c = reg_table['P>|t|'].idxmax().split('[')[0]\n",
        "        features.remove(c)\n",
        "        print(f'exclude: {c}')\n",
        "    else:\n",
        "        break"
      ],
      "metadata": {
        "id": "GmZerr_cN5fu"
      },
      "execution_count": null,
      "outputs": []
    },
    {
      "cell_type": "code",
      "source": [
        "reg.summary2()"
      ],
      "metadata": {
        "id": "NS6bIQJzN9YB"
      },
      "execution_count": null,
      "outputs": []
    },
    {
      "cell_type": "code",
      "source": [
        "# 訓練集效度\n",
        "training_set['pred'] = reg.predict(training_set)\n",
        "print(r2_score(training_set['mean_salary'], training_set['pred']))\n",
        "print(mean_absolute_error(training_set['mean_salary'], training_set['pred']))\n",
        "\n",
        "# 測試集效度\n",
        "testing_set['pred'] = reg.predict(testing_set)\n",
        "print(r2_score(testing_set['mean_salary'], testing_set['pred']))\n",
        "print(mean_absolute_error(testing_set['mean_salary'], testing_set['pred']))"
      ],
      "metadata": {
        "id": "ZAYoTqwpOBwE"
      },
      "execution_count": null,
      "outputs": []
    },
    {
      "cell_type": "markdown",
      "source": [
        "## 其他優化模型效度的方式\n",
        "1. 繼續做錯誤分析\n",
        "2. 特徵\n",
        "    - Target encoding\n",
        "    - 葉編碼\n",
        "    - stacking\n",
        "3. 模型面\n",
        "    - Tree-based model\n",
        "    - NN"
      ],
      "metadata": {
        "id": "_X6X8HDTEUzo"
      }
    }
  ]
}